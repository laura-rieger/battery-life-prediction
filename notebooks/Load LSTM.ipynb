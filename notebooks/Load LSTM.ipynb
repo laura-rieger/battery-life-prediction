{
 "cells": [
  {
   "cell_type": "code",
   "execution_count": 1,
   "metadata": {},
   "outputs": [],
   "source": [
    "%load_ext autoreload\n",
    "%autoreload 2\n",
    "%matplotlib inline"
   ]
  },
  {
   "cell_type": "code",
   "execution_count": 1,
   "metadata": {},
   "outputs": [],
   "source": [
    "import os\n",
    "import sys \n",
    "import configparser\n",
    "import pandas as pd \n",
    "import numpy as np\n",
    "import torch\n",
    "import matplotlib.pyplot as plt\n",
    "from tqdm.notebook import tqdm\n",
    "\n",
    "from matplotlib import cycler\n",
    "from os.path import join as oj\n",
    "from torch.utils.data import TensorDataset, DataLoader\n",
    "import pickle as pkl\n",
    "from sklearn.preprocessing import StandardScaler,MinMaxScaler\n",
    "sys.path.insert(0, \"../src\")\n",
    "import severson_data\n",
    "import models\n",
    "import seaborn as sns\n",
    "import pickle as pkl\n",
    "pd.set_option('display.float_format', lambda x: '%.2f' % x)\n",
    "cuda = torch.cuda.is_available()\n",
    "device = torch.device(\"cuda:0\" if cuda else \"cpu\")"
   ]
  },
  {
   "cell_type": "code",
   "execution_count": 2,
   "metadata": {},
   "outputs": [],
   "source": [
    "colours = ['#208F90', '#8F2317','#17608F','#8F5F17','#f2f3f4','#E56399','#DE6E4B']\n",
    "golden_ratio =1.618\n",
    "\n",
    "sns.set_palette(sns.color_palette(colours))\n",
    "\n",
    "\n",
    "colors = cycler('color',\n",
    "                colours)\n",
    "plt.rc('axes', facecolor='#FFFFFF', edgecolor='#000000',\n",
    "       axisbelow=True, grid=True, prop_cycle=colors)"
   ]
  },
  {
   "cell_type": "code",
   "execution_count": 3,
   "metadata": {
    "scrolled": true
   },
   "outputs": [],
   "source": [
    "config = configparser.ConfigParser()\n",
    "config.read('../config.ini');\n",
    "result_path =config['PATHS']['result_path'] "
   ]
  },
  {
   "cell_type": "code",
   "execution_count": 4,
   "metadata": {},
   "outputs": [],
   "source": [
    "model_path  = '../models/final_models_nifl'\n",
    "fig_path =config['PATHS']['figure_path'] \n",
    "fnames = sorted([oj(model_path, fname) for fname in os.listdir(model_path) if \"pkl\" in fname]) \n",
    "results_list = [pd.Series(pkl.load(open(fname, \"rb\"))) for fname in (fnames)] \n"
   ]
  },
  {
   "cell_type": "code",
   "execution_count": 5,
   "metadata": {},
   "outputs": [
    {
     "data": {
      "text/plain": [
       "array(['NumCycles', 'NumBatteries'], dtype=object)"
      ]
     },
     "execution_count": 5,
     "metadata": {},
     "output_type": "execute_result"
    }
   ],
   "source": [
    "results_all = pd.concat(results_list, axis=1).T.infer_objects()\n",
    "\n",
    "results_all.experiment_name.unique()\n"
   ]
  },
  {
   "cell_type": "code",
   "execution_count": 7,
   "metadata": {},
   "outputs": [
    {
     "data": {
      "text/html": [
       "<div>\n",
       "<style scoped>\n",
       "    .dataframe tbody tr th:only-of-type {\n",
       "        vertical-align: middle;\n",
       "    }\n",
       "\n",
       "    .dataframe tbody tr th {\n",
       "        vertical-align: top;\n",
       "    }\n",
       "\n",
       "    .dataframe thead th {\n",
       "        text-align: right;\n",
       "    }\n",
       "</style>\n",
       "<table border=\"1\" class=\"dataframe\">\n",
       "  <thead>\n",
       "    <tr style=\"text-align: right;\">\n",
       "      <th></th>\n",
       "      <th></th>\n",
       "      <th></th>\n",
       "      <th>best_val_loss</th>\n",
       "      <th>rmse_state_val</th>\n",
       "      <th>rmse_state_test</th>\n",
       "      <th>dropout</th>\n",
       "    </tr>\n",
       "    <tr>\n",
       "      <th>sequence_length</th>\n",
       "      <th>hidden_size</th>\n",
       "      <th>hidden_size_lstm</th>\n",
       "      <th></th>\n",
       "      <th></th>\n",
       "      <th></th>\n",
       "      <th></th>\n",
       "    </tr>\n",
       "  </thead>\n",
       "  <tbody>\n",
       "    <tr>\n",
       "      <th>20</th>\n",
       "      <th>32</th>\n",
       "      <th>32</th>\n",
       "      <td>-3.70</td>\n",
       "      <td>289.65</td>\n",
       "      <td>444.42</td>\n",
       "      <td>0.00</td>\n",
       "    </tr>\n",
       "    <tr>\n",
       "      <th>30</th>\n",
       "      <th>32</th>\n",
       "      <th>32</th>\n",
       "      <td>-3.76</td>\n",
       "      <td>238.07</td>\n",
       "      <td>293.03</td>\n",
       "      <td>0.00</td>\n",
       "    </tr>\n",
       "    <tr>\n",
       "      <th>40</th>\n",
       "      <th>32</th>\n",
       "      <th>32</th>\n",
       "      <td>-3.94</td>\n",
       "      <td>150.62</td>\n",
       "      <td>230.37</td>\n",
       "      <td>0.00</td>\n",
       "    </tr>\n",
       "    <tr>\n",
       "      <th>50</th>\n",
       "      <th>32</th>\n",
       "      <th>32</th>\n",
       "      <td>-3.97</td>\n",
       "      <td>159.07</td>\n",
       "      <td>324.08</td>\n",
       "      <td>0.00</td>\n",
       "    </tr>\n",
       "    <tr>\n",
       "      <th>60</th>\n",
       "      <th>32</th>\n",
       "      <th>32</th>\n",
       "      <td>-3.97</td>\n",
       "      <td>142.30</td>\n",
       "      <td>363.24</td>\n",
       "      <td>0.00</td>\n",
       "    </tr>\n",
       "    <tr>\n",
       "      <th>70</th>\n",
       "      <th>32</th>\n",
       "      <th>32</th>\n",
       "      <td>-4.01</td>\n",
       "      <td>160.95</td>\n",
       "      <td>365.25</td>\n",
       "      <td>0.00</td>\n",
       "    </tr>\n",
       "    <tr>\n",
       "      <th>80</th>\n",
       "      <th>32</th>\n",
       "      <th>32</th>\n",
       "      <td>-4.05</td>\n",
       "      <td>119.10</td>\n",
       "      <td>193.37</td>\n",
       "      <td>0.00</td>\n",
       "    </tr>\n",
       "    <tr>\n",
       "      <th>90</th>\n",
       "      <th>32</th>\n",
       "      <th>32</th>\n",
       "      <td>-4.08</td>\n",
       "      <td>103.52</td>\n",
       "      <td>180.84</td>\n",
       "      <td>0.00</td>\n",
       "    </tr>\n",
       "    <tr>\n",
       "      <th>100</th>\n",
       "      <th>32</th>\n",
       "      <th>32</th>\n",
       "      <td>-4.01</td>\n",
       "      <td>113.12</td>\n",
       "      <td>164.55</td>\n",
       "      <td>0.00</td>\n",
       "    </tr>\n",
       "  </tbody>\n",
       "</table>\n",
       "</div>"
      ],
      "text/plain": [
       "                                              best_val_loss  rmse_state_val  \\\n",
       "sequence_length hidden_size hidden_size_lstm                                  \n",
       "20              32          32                        -3.70          289.65   \n",
       "30              32          32                        -3.76          238.07   \n",
       "40              32          32                        -3.94          150.62   \n",
       "50              32          32                        -3.97          159.07   \n",
       "60              32          32                        -3.97          142.30   \n",
       "70              32          32                        -4.01          160.95   \n",
       "80              32          32                        -4.05          119.10   \n",
       "90              32          32                        -4.08          103.52   \n",
       "100             32          32                        -4.01          113.12   \n",
       "\n",
       "                                              rmse_state_test  dropout  \n",
       "sequence_length hidden_size hidden_size_lstm                            \n",
       "20              32          32                         444.42     0.00  \n",
       "30              32          32                         293.03     0.00  \n",
       "40              32          32                         230.37     0.00  \n",
       "50              32          32                         324.08     0.00  \n",
       "60              32          32                         363.24     0.00  \n",
       "70              32          32                         365.25     0.00  \n",
       "80              32          32                         193.37     0.00  \n",
       "90              32          32                         180.84     0.00  \n",
       "100             32          32                         164.55     0.00  "
      ]
     },
     "execution_count": 7,
     "metadata": {},
     "output_type": "execute_result"
    }
   ],
   "source": [
    "my_sue = 'NumCycles'\n",
    "results = results_all[results_all.experiment_name == my_sue]\n",
    "results = results.reset_index()\n",
    "\n",
    "my_results = None\n",
    "\n",
    "if results.experiment_name[0] == 'NumCycles':\n",
    "\n",
    "    my_results = results[[\n",
    "         'sequence_length', 'best_val_loss',\n",
    "         'rmse_state_val', 'rmse_state_test', 'dropout', 'hidden_size','hidden_size_lstm',\n",
    "          ]].groupby([ 'sequence_length','hidden_size','hidden_size_lstm', ]).mean()\n",
    "    \n",
    "\n",
    "if results.experiment_name[0] == 'NumBatteries':\n",
    "\n",
    "    my_results = results[[\n",
    "         'sequence_length', 'best_val_loss',\n",
    "         'rmse_state_val', 'rmse_state_test', 'train_percentage','hidden_size','hidden_size_lstm',\n",
    "          ]].groupby([ 'train_percentage','hidden_size','hidden_size_lstm', ]).mean()\n",
    "    \n",
    "\n",
    "\n",
    "\n",
    "my_results"
   ]
  },
  {
   "cell_type": "code",
   "execution_count": 8,
   "metadata": {},
   "outputs": [],
   "source": [
    "results =results[results.dropout  == .0]\n",
    "\n",
    "results =results[results.hidden_size_lstm  == 32]\n",
    "results =results[results.hidden_size  == 32]\n",
    "results =results[results.sequence_length  == 100]\n",
    "results = results.sort_values('seed')\n",
    "results = results.reset_index()\n"
   ]
  },
  {
   "cell_type": "code",
   "execution_count": 9,
   "metadata": {},
   "outputs": [],
   "source": [
    "best_model_idx = results.rmse_state_val.argmin()\n",
    "seq_length = 100\n",
    "start_cycle = results.start[best_model_idx]\n",
    "\n",
    "\n",
    "\n",
    "hidden_size = results.hidden_size[best_model_idx]"
   ]
  },
  {
   "cell_type": "markdown",
   "metadata": {},
   "source": [
    "# load data"
   ]
  },
  {
   "cell_type": "code",
   "execution_count": 10,
   "metadata": {},
   "outputs": [
    {
     "name": "stderr",
     "output_type": "stream",
     "text": [
      "C:\\Users\\lauri\\AppData\\Roaming\\Python\\Python39\\site-packages\\scipy\\interpolate\\interpolate.py:605: RuntimeWarning: invalid value encountered in true_divide\n",
      "  slope = (y_hi - y_lo) / (x_hi - x_lo)[:, None]\n"
     ]
    }
   ],
   "source": [
    "if 'data_dict' not in locals(): # just takes a lot of time\n",
    "    data_path = config['DATASET']['severson_path'] \n",
    "    bat_dicts = severson_data.load_data_single(data_path)\n",
    "data_dict = {**bat_dicts[0], **bat_dicts[1], }\n",
    "# data_dict = {**bat_dicts[0], **bat_dicts[1], **bat_dicts[2],}\n",
    "\n",
    "x, y, c, var  = severson_data.get_capacity_input(data_dict, num_offset=0, start_cycle = 10, stop_cycle = seq_length)\n",
    "\n",
    "x_scaled  = severson_data.scale_x(x,y)\n",
    "\n",
    "x_preprocessed = severson_data.remove_outliers(x_scaled,y)\n",
    "x_smoothed = severson_data.smooth_x(x_preprocessed,y, num_points=20)"
   ]
  },
  {
   "cell_type": "code",
   "execution_count": 11,
   "metadata": {},
   "outputs": [],
   "source": [
    "x, y, c, var  = severson_data.get_capacity_input(data_dict, num_offset=0, start_cycle = 10, stop_cycle = 100)\n",
    "_,_,_, var_old  = severson_data.get_capacity_input(data_dict, num_offset=0, start_cycle = 13, stop_cycle = 100)\n"
   ]
  },
  {
   "cell_type": "code",
   "execution_count": 12,
   "metadata": {},
   "outputs": [],
   "source": [
    "train_idxs , val_idxs,test_idxs= severson_data.get_split(len(x), seed =42)\n",
    "\n",
    "qc_variance_scaler = StandardScaler().fit(var[train_idxs]) \n",
    "var = qc_variance_scaler.transform(var)\n",
    "\n",
    "augmented_data =np.hstack([c, var]) \n"
   ]
  },
  {
   "cell_type": "code",
   "execution_count": 13,
   "metadata": {},
   "outputs": [],
   "source": [
    "\n",
    "train_x, train_y , train_s = severson_data.assemble_dataset(x_preprocessed[train_idxs], y[train_idxs],  augmented_data[train_idxs],seq_len = seq_length)\n",
    "_, smoothed_y , _ = severson_data.assemble_dataset(x_smoothed[train_idxs], y[train_idxs],  augmented_data[train_idxs],seq_len = seq_length)\n",
    "\n",
    "min_val = .85\n",
    "max_val = 1\n",
    "\n",
    "capacity_output_scaler = MinMaxScaler((-1, 1), clip=False).fit(\n",
    "    np.maximum(np.minimum(smoothed_y[:, 0:1], max_val), min_val)\n",
    ")"
   ]
  },
  {
   "cell_type": "markdown",
   "metadata": {},
   "source": [
    "# Load Models"
   ]
  },
  {
   "cell_type": "code",
   "execution_count": 14,
   "metadata": {},
   "outputs": [],
   "source": [
    "\n",
    "input_dim = train_x.shape[2]   # Number of input features (e.g. discharge capacity)\n",
    "num_augment = train_s.shape[1]  # three  values of charging schedule (avg and last) plus the variance\n",
    "\n",
    "\n",
    "\n",
    "my_models = [models.Uncertain_LSTM(train_x.shape[2] , \n",
    "                            train_s.shape[1] , \n",
    "                            num_hidden =  results.iloc[i].hidden_size, \n",
    "                              \n",
    "                            num_hidden_lstm =  results.iloc[i].hidden_size_lstm, \n",
    "                            seq_len= results.sequence_length[best_model_idx], \n",
    "                            n_layers =2, \n",
    "                            dropout =.0).to(device) for i, _ in enumerate(results.file_name)] \n",
    "for i, file_name in enumerate(results.file_name):\n",
    "    my_models[i].load_state_dict(torch.load(oj(model_path,file_name+\".pt\")))\n",
    "    my_models[i] = my_models[i].to(device)"
   ]
  },
  {
   "cell_type": "markdown",
   "metadata": {},
   "source": [
    "# Run models on test set"
   ]
  },
  {
   "cell_type": "code",
   "execution_count": 15,
   "metadata": {},
   "outputs": [],
   "source": [
    "\n",
    "cycle_dict = {}\n",
    "num_samples = 10\n",
    "my_quantile = .1\n",
    "num_models = 25\n",
    "max_steps = 3500\n",
    "\n",
    "used_idxs =  test_idxs#train_idxs[10:20]#for actually new data, use test_idxs"
   ]
  },
  {
   "cell_type": "code",
   "execution_count": 98,
   "metadata": {},
   "outputs": [
    {
     "data": {
      "application/vnd.jupyter.widget-view+json": {
       "model_id": "f2d1d964300d416faca895dd5695f3e4",
       "version_major": 2,
       "version_minor": 0
      },
      "text/plain": [
       "0it [00:00, ?it/s]"
      ]
     },
     "metadata": {},
     "output_type": "display_data"
    }
   ],
   "source": [
    "\n",
    "# for seq_length in [40,]:\n",
    "for seq_length in [300,]:  \n",
    "# for seq_length in [800,]:  \n",
    "    test_seq_list = []\n",
    "    test_life_pred_list = []\n",
    "    test_seq_std_list = []\n",
    "\n",
    "    all_outputs_arr = np.empty( (len(used_idxs),max_steps,num_models, num_samples,))\n",
    "    # used_idxs =  np.arange(len(x))#for actually new data, use test_idxs\n",
    "    for i,model in tqdm(enumerate(my_models[:num_models])):\n",
    "\n",
    "        supp_val_data =  np.hstack([c[used_idxs, :3], var[used_idxs],np.ones((len(used_idxs),1))*np.log(seq_length) ])\n",
    "\n",
    "        test_seq = x_preprocessed[used_idxs][:, :seq_length,None  ].copy()\n",
    "        extended_seq = np.swapaxes(np.reshape(np.repeat(np.swapaxes(test_seq, 0,-1)[:,:,:,None],num_samples, axis =-1), (1, seq_length, -1)),0,-1)\n",
    "\n",
    "        extended_supp_data = np.swapaxes(np.reshape(np.repeat(np.swapaxes(supp_val_data, 0,-1)[:,:,None],num_samples, axis =-1), (supp_val_data.shape[1], -1)),0,-1)\n",
    "\n",
    "        with torch.no_grad():\n",
    "            while((np.all(extended_seq[:,-1] < 1e-3) == False ) *(extended_seq.shape[1] < max_steps)):\n",
    "\n",
    "\n",
    "                supp_val_data_torch = torch.from_numpy(extended_supp_data).to(device).float()\n",
    "\n",
    "                test_seq_torch = torch.from_numpy(extended_seq[:, - seq_length:]).to(device).float()\n",
    "\n",
    "                model.reset_hidden_state()        \n",
    "                (state_mean_mean, state_var) = model(test_seq_torch, supp_val_data_torch)\n",
    "                if num_samples >1:\n",
    "                    state_mean_noisy   = state_mean_mean  +  torch.normal(0, (torch.sqrt(state_var)))   \n",
    "                else:\n",
    "                    state_mean_noisy   = state_mean_mean \n",
    "\n",
    "                state_mean_transformed = torch.from_numpy(capacity_output_scaler.inverse_transform(state_mean_noisy.cpu().numpy())).to(device)\n",
    "\n",
    "                state_mean_transformed[:,0] = state_mean_transformed[:,0]*(test_seq_torch[:, -1, 0 ])\n",
    "\n",
    "                extended_supp_data[:,-1] = np.log(np.exp(extended_supp_data[:,-1])+1)\n",
    "                extended_seq = np.hstack([extended_seq, state_mean_transformed.cpu().numpy()[:, None]])\n",
    "        used_steps = extended_seq.shape[1]\n",
    "        reshaped = np.swapaxes(np.reshape(np.swapaxes(extended_seq,0,1),(1,used_steps, -1, num_samples)),0,-2)\n",
    "        all_outputs_arr[:,:used_steps,i,:] = reshaped[:,:,0]\n",
    "\n",
    "    all_outputs_arr = np.reshape(np.transpose(all_outputs_arr, (0,2,3, 1)), (len(used_idxs), -1, max_steps))\n",
    "    cycle_dict[seq_length] = np.copy(all_outputs_arr)"
   ]
  },
  {
   "cell_type": "code",
   "execution_count": 37,
   "metadata": {},
   "outputs": [
    {
     "name": "stdout",
     "output_type": "stream",
     "text": [
      "RMSE 110.79604296968837\n",
      "MAE 78.41142857142856\n"
     ]
    }
   ],
   "source": [
    "num_per_ensemble = 5\n",
    "num_ensembles = int(num_models/ num_per_ensemble)\n",
    "pred_arr = np.empty((num_ensembles, len(used_idxs)))\n",
    "for j in range(num_ensembles):\n",
    "    for i in range(len(used_idxs)):\n",
    "        pred_arr[j,i] = ((all_outputs_arr[i] <1e-2).argmax(axis=1)[j*num_samples*num_per_ensemble:(j+1)*num_per_ensemble*num_samples]).mean()\n",
    "print(\"RMSE\", np.sqrt(np.mean(np.square(pred_arr- y[used_idxs][None,:]), axis=1)).mean())\n",
    "print(\"MAE\", (np.mean(np.abs(pred_arr- y[used_idxs][None,:]), axis=1)).mean())"
   ]
  },
  {
   "cell_type": "code",
   "execution_count": 38,
   "metadata": {},
   "outputs": [
    {
     "data": {
      "text/plain": [
       "array([107.40515204, 101.3483929 ,  95.85055382,  83.15532535,\n",
       "       166.22079075])"
      ]
     },
     "execution_count": 38,
     "metadata": {},
     "output_type": "execute_result"
    }
   ],
   "source": [
    "np.sqrt(np.mean(np.square(pred_arr- y[used_idxs][None,:]), axis=1))"
   ]
  },
  {
   "cell_type": "code",
   "execution_count": 39,
   "metadata": {},
   "outputs": [],
   "source": [
    "num_per_ensemble = 5\n",
    "num_ensembles = int(num_models/ num_per_ensemble)\n",
    "pred_arr = np.empty((num_ensembles, len(used_idxs)))\n",
    "std_arr = np.empty((num_ensembles, len(used_idxs)))\n",
    "for j in range(num_ensembles):\n",
    "    for i in range(len(used_idxs)):\n",
    "        pred_arr[j,i] = ((all_outputs_arr[i] <1e-2).argmax(axis=1)[j*num_samples*num_per_ensemble:(j+1)*num_per_ensemble*num_samples]).mean()\n",
    "        std_arr[j,i] = ((all_outputs_arr[i] <1e-2).argmax(axis=1)[j*num_samples*num_per_ensemble:(j+1)*num_per_ensemble*num_samples]).std()\n"
   ]
  },
  {
   "cell_type": "code",
   "execution_count": 48,
   "metadata": {},
   "outputs": [],
   "source": [
    "acceptable_err = 50\n",
    "err_dict = {}\n",
    "std_std_dict = {}\n",
    "ahh_plot = {}\n",
    "for key in cycle_dict.keys():\n",
    "\n",
    "    all_outputs_arr = cycle_dict[key]\n",
    "    num_per_ensemble = 5\n",
    "    num_ensembles = int(num_models/ num_per_ensemble)\n",
    "    pred_arr = np.empty((num_ensembles, len(used_idxs)))\n",
    "    std_arr = np.empty((num_ensembles, len(used_idxs)))\n",
    "    for j in range(num_ensembles):\n",
    "        for i in range(len(used_idxs)):\n",
    "            pred_arr[j,i] = ((all_outputs_arr[i] <1e-2).argmax(axis=1)[j*num_samples*num_per_ensemble:(j+1)*num_per_ensemble*num_samples]).mean()\n",
    "            std_arr[j,i] = ((all_outputs_arr[i] <1e-2).argmax(axis=1)[j*num_samples*num_per_ensemble:(j+1)*num_per_ensemble*num_samples]).std()\n",
    "\n",
    "    err_dict[key] = (np.abs(pred_arr - y[test_idxs]) <acceptable_err).mean()\n",
    "    std_std_dict[key] = (std_arr ).mean()\n",
    "    "
   ]
  },
  {
   "cell_type": "code",
   "execution_count": 49,
   "metadata": {},
   "outputs": [
    {
     "data": {
      "image/png": "[encoded data removed]",
      "text/plain": [
       "<Figure size 864x360 with 2 Axes>"
      ]
     },
     "metadata": {
      "needs_background": "light"
     },
     "output_type": "display_data"
    }
   ],
   "source": [
    "IDX = 16\n",
    "plt.rc('font', family='serif', size = 20)\n",
    "fig, axes = plt.subplots(ncols = 2, figsize= (12,5), gridspec_kw={'width_ratios': [1, 1.5]})\n",
    "lists = sorted(err_dict.items()) # sorted by key, return a list of tuples\n",
    "lists2 = sorted(st_dict.items()) # sorted by key, return a list of tuples\n",
    "linewidth = 4\n",
    "x_plot, y_plot = zip(*lists)\n",
    "x_plot, std_plot = zip(*lists2)\n",
    "\n",
    "\n",
    "axes[0].plot(x_plot,y_plot, linewidth = linewidth)\n",
    "axes[0].fill_between(x_plot, np.asarray(y_plot)+ np.asarray(std_plot),np.asarray(y_plot)- np.asarray(std_plot), facecolor=colours[0], alpha=0.2, label ='Err')\n",
    "\n",
    "lists2 = sorted(std_std_dict.items()) # sorted by key, return a list of tuples\n",
    "linewidth = 4\n",
    "\n",
    "\n",
    "axes[0].set_xlabel(\"# cycles available\", )\n",
    "axes[0].set_ylabel(\"% batteries with \\nerror < {acceptable_err} cycles\".format(acceptable_err = acceptable_err))\n",
    "axes[1].plot(x_preprocessed[used_idxs[IDX]]* (1.1-.8*1.1) + .8*1.1, c = colours[1], label = 'Data',linewidth = linewidth)\n",
    "\n",
    "\n",
    "axes[1].plot(np.quantile(cycle_dict[100][IDX][:50], .5, axis = 0)* (1.1-.8*1.1) + .8*1.1, c= colours[0], label = 'Predicted (100)',linewidth = linewidth)\n",
    "lower_limit = np.quantile(cycle_dict[100][IDX][:50], my_quantile/2, axis = 0)* (1.1-.8*1.1) + .8*1.1\n",
    "upper_limit = np.quantile(cycle_dict[100][IDX][:50], 1-my_quantile/2, axis = 0)* (1.1-.8*1.1) + .8*1.1\n",
    "axes[1].fill_between(np.arange(3500), upper_limit, lower_limit , facecolor=colours[0], alpha=0.2)\n",
    "\n",
    "axes[1].plot(np.quantile(cycle_dict[300][IDX][:50], .5, axis = 0)* (1.1-.8*1.1) + .8*1.1, c= 'b', label = 'Predicted (300)',linewidth = linewidth)\n",
    "lower_limit = np.quantile(cycle_dict[300][IDX][:50], my_quantile/2, axis = 0)* (1.1-.8*1.1) + .8*1.1\n",
    "upper_limit = np.quantile(cycle_dict[300][IDX][:50], 1-my_quantile/2, axis = 0)* (1.1-.8*1.1) + .8*1.1\n",
    "axes[1].fill_between(np.arange(3500), upper_limit, lower_limit , facecolor='b', alpha=0.2)\n",
    "axes[1].set_ylabel(\"Capacity\", )\n",
    "axes[1].set_xlabel(\"Cycles\", )\n",
    "axes[1].set_xlim(0,1000)\n",
    "axes[1].set_ylim(.8*1.1+.002,1.1)\n",
    "axes[1].legend(loc =0)\n",
    "axes[0].title.set_text(\"A\")\n",
    "axes[1].title.set_text(\"B\")\n",
    "plt.tight_layout()\n",
    "\n",
    "plt.savefig(oj(fig_path,\"projection.pdf\".format(seq_length, )) )"
   ]
  }
 ],
 "metadata": {
  "interpreter": {
   "hash": "ec7a7b920c085323a0e8cdc6d627f64ad3d5dd26cd22dbbc4f751987504d6f28"
  },
  "kernelspec": {
   "display_name": "Python 3 (ipykernel)",
   "language": "python",
   "name": "python3"
  },
  "language_info": {
   "codemirror_mode": {
    "name": "ipython",
    "version": 3
   },
   "file_extension": ".py",
   "mimetype": "text/x-python",
   "name": "python",
   "nbconvert_exporter": "python",
   "pygments_lexer": "ipython3",
   "version": "3.9.12"
  }
 },
 "nbformat": 4,
 "nbformat_minor": 4
}
