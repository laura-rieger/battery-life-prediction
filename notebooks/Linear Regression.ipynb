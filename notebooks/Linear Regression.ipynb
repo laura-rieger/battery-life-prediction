{
 "cells": [
  {
   "cell_type": "code",
   "execution_count": 1,
   "metadata": {},
   "outputs": [],
   "source": [
    "%load_ext autoreload\n",
    "%autoreload 2\n",
    "%matplotlib inline"
   ]
  },
  {
   "cell_type": "code",
   "execution_count": 3,
   "metadata": {},
   "outputs": [],
   "source": [
    "import os\n",
    "import sys \n",
    "import configparser\n",
    "import pandas as pd \n",
    "import numpy as np\n",
    "\n",
    "import matplotlib.pyplot as plt\n",
    "from tqdm import tqdm\n",
    "\n",
    "from matplotlib import cycler\n",
    "\n",
    "from os.path import join as oj\n",
    "import pickle as pkl\n",
    "from sklearn.preprocessing import StandardScaler,MinMaxScaler\n",
    "from sklearn.linear_model import LinearRegression,ElasticNet,Lasso, Ridge\n",
    "from sklearn.model_selection import cross_val_score\n",
    "sys.path.insert(0, \"../src\")\n",
    "\n",
    "import severson_data\n",
    "\n",
    "import seaborn as sns\n",
    "import pickle as pkl\n",
    "pd.set_option('display.float_format', lambda x: '%.2f' % x)\n",
    "\n",
    "config = configparser.ConfigParser()\n",
    "config.read('../config.ini');\n",
    "result_path =config['PATHS']['result_path'] "
   ]
  },
  {
   "cell_type": "markdown",
   "metadata": {},
   "source": [
    "# load data"
   ]
  },
  {
   "cell_type": "code",
   "execution_count": 4,
   "metadata": {},
   "outputs": [
    {
     "name": "stderr",
     "output_type": "stream",
     "text": [
      "C:\\Users\\lauri\\AppData\\Roaming\\Python\\Python39\\site-packages\\scipy\\interpolate\\interpolate.py:605: RuntimeWarning: invalid value encountered in true_divide\n",
      "  slope = (y_hi - y_lo) / (x_hi - x_lo)[:, None]\n"
     ]
    }
   ],
   "source": [
    "if 'data_dict' not in locals(): # just takes a lot of time\n",
    "    data_path = config['DATASET']['severson_path'] \n",
    "    bat_dicts = severson_data.load_data_single(data_path)\n",
    "data_dict = {**bat_dicts[0], **bat_dicts[1], }\n",
    "\n",
    "x, y, c, var  = severson_data.get_capacity_input(data_dict, num_offset=0, start_cycle = 10, stop_cycle = 100)\n",
    "\n",
    "x = severson_data.preprocess_x(x,y)\n"
   ]
  },
  {
   "cell_type": "code",
   "execution_count": 5,
   "metadata": {},
   "outputs": [],
   "source": [
    "train_idxs , val_idxs,test_idxs= severson_data.get_split(len(x), seed =42)\n",
    "\n",
    "\n",
    "\n",
    "\n",
    "augmented_data =np.hstack([c, var,]) \n",
    " \n",
    "qc_variance_scaler = StandardScaler().fit(augmented_data[train_idxs]) \n",
    "augmented_data = qc_variance_scaler.transform(augmented_data)\n",
    "\n",
    "x_aged, y_aged, c_aged, var_aged  = severson_data.get_capacity_input(bat_dicts[2] , num_offset=0, start_cycle = 10, stop_cycle = 100)\n",
    "\n",
    "augmented_data_aged =np.hstack([c_aged, var_aged, ]) \n",
    "\n",
    "augmented_data_aged = qc_variance_scaler.transform(augmented_data_aged)"
   ]
  },
  {
   "cell_type": "markdown",
   "metadata": {},
   "source": [
    "# fit and eval model"
   ]
  },
  {
   "cell_type": "code",
   "execution_count": 6,
   "metadata": {},
   "outputs": [
    {
     "name": "stdout",
     "output_type": "stream",
     "text": [
      "0.7224228978688421\n"
     ]
    }
   ],
   "source": [
    "\n",
    "max_score = 0\n",
    "max_alpha = 0\n",
    "for alpha in range(-10,10):\n",
    "\n",
    "\n",
    "        reg = Ridge(alpha = np.exp(alpha))\n",
    "        cur_score = cross_val_score(reg, augmented_data[train_idxs], np.log(y[train_idxs]), cv=4).mean()\n",
    "        if cur_score > max_score:\n",
    "            max_score = cur_score\n",
    "            max_alpha = np.exp(alpha)\n",
    "reg = Ridge(alpha = max_alpha).fit(augmented_data[train_idxs], np.log(y[train_idxs]))\n",
    "print(reg.score(augmented_data[val_idxs], np.log(y[val_idxs])))"
   ]
  },
  {
   "cell_type": "code",
   "execution_count": 25,
   "metadata": {},
   "outputs": [],
   "source": [
    "\n",
    "max_score = 0\n",
    "max_alpha = 0\n",
    "max_l1 =0\n",
    "for alpha in range(-10,10):\n",
    "    for l1_ratio in range(1,10, 1):\n",
    "\n",
    "        reg = ElasticNet(alpha = np.exp(alpha),l1_ratio=l1_ratio/10, )\n",
    "        cur_score = cross_val_score(reg, augmented_data[train_idxs], np.log(y[train_idxs]), cv=4).mean()\n",
    "        if cur_score > max_score:\n",
    "            max_score = cur_score\n",
    "            max_alpha = np.exp(alpha)\n",
    "            max_l1 = l1_ratio/10\n",
    "\n",
    "            \n"
   ]
  },
  {
   "cell_type": "code",
   "execution_count": 26,
   "metadata": {},
   "outputs": [
    {
     "name": "stdout",
     "output_type": "stream",
     "text": [
      "0.7401740873231863\n"
     ]
    }
   ],
   "source": [
    "reg = ElasticNet(alpha = max_alpha, l1_ratio=max_l1).fit(augmented_data[train_idxs], np.log(y[train_idxs]))\n",
    "print(reg.score(augmented_data[val_idxs], np.log(y[val_idxs])))"
   ]
  },
  {
   "cell_type": "code",
   "execution_count": 27,
   "metadata": {},
   "outputs": [],
   "source": [
    "reg = ElasticNet(alpha = max_alpha,l1_ratio=max_l1 ).fit(augmented_data[train_idxs], np.log(y[train_idxs]))\n"
   ]
  },
  {
   "cell_type": "code",
   "execution_count": 28,
   "metadata": {},
   "outputs": [
    {
     "name": "stdout",
     "output_type": "stream",
     "text": [
      "RMSE Test: 136.0\n",
      "RMSE Test: 108.0\n",
      "RMSE Test: 144.0\n",
      "RMSE Test: 137.0\n",
      "RMSE Test: 152.0\n"
     ]
    }
   ],
   "source": [
    "for i in [6,10,20, 30, 40]:\n",
    "    reg = ElasticNet(alpha = max_alpha,l1_ratio=max_l1 ).fit(augmented_data[train_idxs[:i]], np.log(y[train_idxs[:i]]))\n",
    "\n",
    "    rmse_test = np.sqrt(np.square(np.exp(reg.predict(augmented_data[test_idxs])) - y[test_idxs]).mean())\n",
    "    print(\"RMSE Test: {}\".format(np.round(rmse_test)))"
   ]
  },
  {
   "cell_type": "code",
   "execution_count": 29,
   "metadata": {},
   "outputs": [
    {
     "name": "stdout",
     "output_type": "stream",
     "text": [
      "RMSE Train: 120.0\n",
      "RMSE Val: 145.0\n"
     ]
    }
   ],
   "source": [
    "rmse_val = np.sqrt(np.square(np.exp(reg.predict(augmented_data[val_idxs])) - y[val_idxs]).mean())\n",
    "rmse_train = np.sqrt(np.square(np.exp(reg.predict(augmented_data[train_idxs])) - y[train_idxs]).mean())\n",
    "print(\"RMSE Train: {}\".format(np.round(rmse_train)))\n",
    "print(\"RMSE Val: {}\".format(np.round(rmse_val)))\n"
   ]
  },
  {
   "cell_type": "code",
   "execution_count": 30,
   "metadata": {},
   "outputs": [
    {
     "name": "stdout",
     "output_type": "stream",
     "text": [
      "RMSE Aged: 204.0\n",
      "RMSE Test: 152.0\n"
     ]
    }
   ],
   "source": [
    "rmse_aged = np.sqrt(np.square(np.exp(reg.predict(augmented_data_aged)) - y_aged).mean())\n",
    "print(\"RMSE Aged: {}\".format(np.round(rmse_aged)))\n",
    "rmse_test = np.sqrt(np.square(np.exp(reg.predict(augmented_data[test_idxs])) - y[test_idxs]).mean())\n",
    "print(\"RMSE Test: {}\".format(np.round(rmse_test)))"
   ]
  },
  {
   "cell_type": "markdown",
   "metadata": {},
   "source": [
    "# fold ensemble"
   ]
  },
  {
   "cell_type": "code",
   "execution_count": null,
   "metadata": {},
   "outputs": [],
   "source": []
  }
 ],
 "metadata": {
  "kernelspec": {
   "display_name": "Python (my_science)",
   "language": "python",
   "name": "my_science"
  },
  "language_info": {
   "codemirror_mode": {
    "name": "ipython",
    "version": 3
   },
   "file_extension": ".py",
   "mimetype": "text/x-python",
   "name": "python",
   "nbconvert_exporter": "python",
   "pygments_lexer": "ipython3",
   "version": "3.9.6"
  }
 },
 "nbformat": 4,
 "nbformat_minor": 4
}
